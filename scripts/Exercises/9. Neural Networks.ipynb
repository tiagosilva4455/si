{
 "cells": [
  {
   "cell_type": "code",
   "execution_count": 7,
   "outputs": [],
   "source": [
    "from si.data.dataset import Dataset\n",
    "from si.neural_networks.layers import Layer, DenseLayer, DropoutLayer\n",
    "from si.neural_networks.neural_network import NeuralNetwork\n",
    "from si.neural_networks.optimizers import SGD\n",
    "from si.neural_networks.activation import ReLUActivation,SigmoidActivation\n",
    "from si.neural_networks.losses import MeanSquaredError, BinaryCrossEntropy\n",
    "from si.model_selection.split import stratified_train_test_split\n",
    "from si.metrics.mse import mse\n",
    "from si.metrics.accuracy import accuracy\n",
    "from si.io.csv_file import read_csv\n",
    "import numpy as np"
   ],
   "metadata": {
    "collapsed": false,
    "ExecuteTime": {
     "end_time": "2023-12-18T14:19:40.521661Z",
     "start_time": "2023-12-18T14:19:40.438218Z"
    }
   },
   "id": "2b240faebc8ef93a"
  },
  {
   "cell_type": "markdown",
   "source": [
    "Build, train and evaluate a neural network"
   ],
   "metadata": {
    "collapsed": false
   },
   "id": "76ac5de5cb401663"
  },
  {
   "cell_type": "code",
   "execution_count": 8,
   "id": "initial_id",
   "metadata": {
    "collapsed": true,
    "ExecuteTime": {
     "end_time": "2023-12-18T14:19:44.534921Z",
     "start_time": "2023-12-18T14:19:44.520124Z"
    }
   },
   "outputs": [
    {
     "name": "stdout",
     "output_type": "stream",
     "text": [
      "(160, 32)\n"
     ]
    }
   ],
   "source": [
    "np.random.seed(47)\n",
    "X = np.random.randn(160, 32) \n",
    "y = np.random.randint(2, size=(160, 1))\n",
    "data = Dataset(X=X,y=y)\n",
    "\n",
    "print(data.shape())"
   ]
  },
  {
   "cell_type": "code",
   "execution_count": 9,
   "outputs": [],
   "source": [
    "train, test = stratified_train_test_split(data, test_size=0.2, random_state=47)"
   ],
   "metadata": {
    "collapsed": false,
    "ExecuteTime": {
     "end_time": "2023-12-18T14:20:37.983320Z",
     "start_time": "2023-12-18T14:20:37.977605Z"
    }
   },
   "id": "1589e37d9406beb8"
  },
  {
   "cell_type": "code",
   "execution_count": 11,
   "outputs": [
    {
     "data": {
      "text/plain": "<si.neural_networks.neural_network.NeuralNetwork at 0x7fc7d8b02d00>"
     },
     "execution_count": 11,
     "metadata": {},
     "output_type": "execute_result"
    }
   ],
   "source": [
    "nnmodel =NeuralNetwork(epochs=100, batch_size=16, optimizer=SGD, learning_rate=0.01, verbose=True, loss=BinaryCrossEntropy, metric=accuracy)\n",
    "n_features = X.shape[1]\n",
    "\n",
    "nnmodel.add(DenseLayer(32, (n_features,)))\n",
    "\n",
    "nnmodel.add(ReLUActivation())\n",
    "\n",
    "nnmodel.add(DenseLayer(16))\n",
    "\n",
    "nnmodel.add(ReLUActivation())\n",
    "\n",
    "nnmodel.add(DenseLayer(1))\n",
    "\n",
    "nnmodel.add(SigmoidActivation())"
   ],
   "metadata": {
    "collapsed": false,
    "ExecuteTime": {
     "end_time": "2023-12-18T14:22:42.545621Z",
     "start_time": "2023-12-18T14:22:42.539702Z"
    }
   },
   "id": "aa4975b0a668c40c"
  },
  {
   "cell_type": "code",
   "execution_count": 12,
   "outputs": [
    {
     "name": "stdout",
     "output_type": "stream",
     "text": [
      "Epoch 1/100 - loss: 102.5915 - accuracy: 0.5156\n",
      "Epoch 2/100 - loss: 83.7284 - accuracy: 0.6328\n",
      "Epoch 3/100 - loss: 80.4091 - accuracy: 0.6328\n",
      "Epoch 4/100 - loss: 71.7410 - accuracy: 0.7500\n",
      "Epoch 5/100 - loss: 63.5815 - accuracy: 0.7578\n",
      "Epoch 6/100 - loss: 58.2134 - accuracy: 0.8047\n",
      "Epoch 7/100 - loss: 51.2049 - accuracy: 0.8594\n",
      "Epoch 8/100 - loss: 46.5843 - accuracy: 0.8281\n",
      "Epoch 9/100 - loss: 38.4034 - accuracy: 0.9141\n",
      "Epoch 10/100 - loss: 33.4043 - accuracy: 0.9375\n",
      "Epoch 11/100 - loss: 23.8440 - accuracy: 0.9688\n",
      "Epoch 12/100 - loss: 18.7934 - accuracy: 0.9844\n",
      "Epoch 13/100 - loss: 15.2410 - accuracy: 0.9922\n",
      "Epoch 14/100 - loss: 12.7143 - accuracy: 1.0000\n",
      "Epoch 15/100 - loss: 9.4076 - accuracy: 1.0000\n",
      "Epoch 16/100 - loss: 8.0950 - accuracy: 1.0000\n",
      "Epoch 17/100 - loss: 6.4277 - accuracy: 1.0000\n",
      "Epoch 18/100 - loss: 5.6149 - accuracy: 1.0000\n",
      "Epoch 19/100 - loss: 4.7303 - accuracy: 1.0000\n",
      "Epoch 20/100 - loss: 4.0432 - accuracy: 1.0000\n",
      "Epoch 21/100 - loss: 3.4830 - accuracy: 1.0000\n",
      "Epoch 22/100 - loss: 3.0860 - accuracy: 1.0000\n",
      "Epoch 23/100 - loss: 2.7226 - accuracy: 1.0000\n",
      "Epoch 24/100 - loss: 2.4629 - accuracy: 1.0000\n",
      "Epoch 25/100 - loss: 2.2359 - accuracy: 1.0000\n",
      "Epoch 26/100 - loss: 2.0224 - accuracy: 1.0000\n",
      "Epoch 27/100 - loss: 1.8728 - accuracy: 1.0000\n",
      "Epoch 28/100 - loss: 1.7036 - accuracy: 1.0000\n",
      "Epoch 29/100 - loss: 1.5968 - accuracy: 1.0000\n",
      "Epoch 30/100 - loss: 1.4574 - accuracy: 1.0000\n",
      "Epoch 31/100 - loss: 1.3657 - accuracy: 1.0000\n",
      "Epoch 32/100 - loss: 1.2829 - accuracy: 1.0000\n",
      "Epoch 33/100 - loss: 1.1998 - accuracy: 1.0000\n",
      "Epoch 34/100 - loss: 1.1271 - accuracy: 1.0000\n",
      "Epoch 35/100 - loss: 1.0753 - accuracy: 1.0000\n",
      "Epoch 36/100 - loss: 1.0093 - accuracy: 1.0000\n",
      "Epoch 37/100 - loss: 0.9427 - accuracy: 1.0000\n",
      "Epoch 38/100 - loss: 0.8985 - accuracy: 1.0000\n",
      "Epoch 39/100 - loss: 0.8574 - accuracy: 1.0000\n",
      "Epoch 40/100 - loss: 0.8210 - accuracy: 1.0000\n",
      "Epoch 41/100 - loss: 0.7826 - accuracy: 1.0000\n",
      "Epoch 42/100 - loss: 0.7464 - accuracy: 1.0000\n",
      "Epoch 43/100 - loss: 0.7038 - accuracy: 1.0000\n",
      "Epoch 44/100 - loss: 0.6857 - accuracy: 1.0000\n",
      "Epoch 45/100 - loss: 0.6543 - accuracy: 1.0000\n",
      "Epoch 46/100 - loss: 0.6229 - accuracy: 1.0000\n",
      "Epoch 47/100 - loss: 0.6136 - accuracy: 1.0000\n",
      "Epoch 48/100 - loss: 0.5860 - accuracy: 1.0000\n",
      "Epoch 49/100 - loss: 0.5595 - accuracy: 1.0000\n",
      "Epoch 50/100 - loss: 0.5465 - accuracy: 1.0000\n",
      "Epoch 51/100 - loss: 0.5237 - accuracy: 1.0000\n",
      "Epoch 52/100 - loss: 0.5073 - accuracy: 1.0000\n",
      "Epoch 53/100 - loss: 0.4927 - accuracy: 1.0000\n",
      "Epoch 54/100 - loss: 0.4673 - accuracy: 1.0000\n",
      "Epoch 55/100 - loss: 0.4671 - accuracy: 1.0000\n",
      "Epoch 56/100 - loss: 0.4493 - accuracy: 1.0000\n",
      "Epoch 57/100 - loss: 0.4355 - accuracy: 1.0000\n",
      "Epoch 58/100 - loss: 0.4201 - accuracy: 1.0000\n",
      "Epoch 59/100 - loss: 0.4084 - accuracy: 1.0000\n",
      "Epoch 60/100 - loss: 0.3971 - accuracy: 1.0000\n",
      "Epoch 61/100 - loss: 0.3911 - accuracy: 1.0000\n",
      "Epoch 62/100 - loss: 0.3792 - accuracy: 1.0000\n",
      "Epoch 63/100 - loss: 0.3729 - accuracy: 1.0000\n",
      "Epoch 64/100 - loss: 0.3635 - accuracy: 1.0000\n",
      "Epoch 65/100 - loss: 0.3543 - accuracy: 1.0000\n",
      "Epoch 66/100 - loss: 0.3454 - accuracy: 1.0000\n",
      "Epoch 67/100 - loss: 0.3364 - accuracy: 1.0000\n",
      "Epoch 68/100 - loss: 0.3287 - accuracy: 1.0000\n",
      "Epoch 69/100 - loss: 0.3225 - accuracy: 1.0000\n",
      "Epoch 70/100 - loss: 0.3151 - accuracy: 1.0000\n",
      "Epoch 71/100 - loss: 0.3071 - accuracy: 1.0000\n",
      "Epoch 72/100 - loss: 0.2996 - accuracy: 1.0000\n",
      "Epoch 73/100 - loss: 0.2942 - accuracy: 1.0000\n",
      "Epoch 74/100 - loss: 0.2836 - accuracy: 1.0000\n",
      "Epoch 75/100 - loss: 0.2735 - accuracy: 1.0000\n",
      "Epoch 76/100 - loss: 0.2745 - accuracy: 1.0000\n",
      "Epoch 77/100 - loss: 0.2713 - accuracy: 1.0000\n",
      "Epoch 78/100 - loss: 0.2652 - accuracy: 1.0000\n",
      "Epoch 79/100 - loss: 0.2545 - accuracy: 1.0000\n",
      "Epoch 80/100 - loss: 0.2522 - accuracy: 1.0000\n",
      "Epoch 81/100 - loss: 0.2507 - accuracy: 1.0000\n",
      "Epoch 82/100 - loss: 0.2452 - accuracy: 1.0000\n",
      "Epoch 83/100 - loss: 0.2324 - accuracy: 1.0000\n",
      "Epoch 84/100 - loss: 0.2340 - accuracy: 1.0000\n",
      "Epoch 85/100 - loss: 0.2325 - accuracy: 1.0000\n",
      "Epoch 86/100 - loss: 0.2260 - accuracy: 1.0000\n",
      "Epoch 87/100 - loss: 0.2247 - accuracy: 1.0000\n",
      "Epoch 88/100 - loss: 0.2176 - accuracy: 1.0000\n",
      "Epoch 89/100 - loss: 0.2151 - accuracy: 1.0000\n",
      "Epoch 90/100 - loss: 0.2112 - accuracy: 1.0000\n",
      "Epoch 91/100 - loss: 0.2106 - accuracy: 1.0000\n",
      "Epoch 92/100 - loss: 0.2047 - accuracy: 1.0000\n",
      "Epoch 93/100 - loss: 0.2031 - accuracy: 1.0000\n",
      "Epoch 94/100 - loss: 0.1937 - accuracy: 1.0000\n",
      "Epoch 95/100 - loss: 0.1970 - accuracy: 1.0000\n",
      "Epoch 96/100 - loss: 0.1946 - accuracy: 1.0000\n",
      "Epoch 97/100 - loss: 0.1915 - accuracy: 1.0000\n",
      "Epoch 98/100 - loss: 0.1864 - accuracy: 1.0000\n",
      "Epoch 99/100 - loss: 0.1844 - accuracy: 1.0000\n",
      "Epoch 100/100 - loss: 0.1801 - accuracy: 1.0000\n"
     ]
    },
    {
     "data": {
      "text/plain": "<si.neural_networks.neural_network.NeuralNetwork at 0x7fc7d8b02d00>"
     },
     "execution_count": 12,
     "metadata": {},
     "output_type": "execute_result"
    }
   ],
   "source": [
    "nnmodel.fit(train)"
   ],
   "metadata": {
    "collapsed": false,
    "ExecuteTime": {
     "end_time": "2023-12-18T14:22:44.283940Z",
     "start_time": "2023-12-18T14:22:44.094394Z"
    }
   },
   "id": "520f4c2b26450c56"
  },
  {
   "cell_type": "code",
   "execution_count": 14,
   "outputs": [
    {
     "name": "stdout",
     "output_type": "stream",
     "text": [
      "Result score: 0.645\n"
     ]
    }
   ],
   "source": [
    "nnresult =nnmodel.score(test)\n",
    "print(f\"Result score: {nnresult:0.3}\")"
   ],
   "metadata": {
    "collapsed": false,
    "ExecuteTime": {
     "end_time": "2023-12-18T14:24:44.670828Z",
     "start_time": "2023-12-18T14:24:44.670374Z"
    }
   },
   "id": "c33a069cd80358d3"
  }
 ],
 "metadata": {
  "kernelspec": {
   "display_name": "Python 3",
   "language": "python",
   "name": "python3"
  },
  "language_info": {
   "codemirror_mode": {
    "name": "ipython",
    "version": 2
   },
   "file_extension": ".py",
   "mimetype": "text/x-python",
   "name": "python",
   "nbconvert_exporter": "python",
   "pygments_lexer": "ipython2",
   "version": "2.7.6"
  }
 },
 "nbformat": 4,
 "nbformat_minor": 5
}
