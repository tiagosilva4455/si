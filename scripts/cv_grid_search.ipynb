{
 "cells": [
  {
   "cell_type": "markdown",
   "source": [
    "SIB - P7\n",
    "A Jupyter Notebook with examples of how to use cross validation and grid search. 30/10/2023"
   ],
   "metadata": {
    "collapsed": false
   }
  },
  {
   "cell_type": "code",
   "execution_count": 1,
   "outputs": [],
   "source": [
    "# imports\n",
    "from si.io.csv_file import read_csv\n",
    "from si.models.logistic_regression import LogisticRegression\n",
    "from si.model_selection.cross_validation import k_fold_cross_validation\n",
    "from si.model_selection.grid_search import grid_search_cv"
   ],
   "metadata": {
    "collapsed": false,
    "ExecuteTime": {
     "end_time": "2023-10-19T16:34:08.416420154Z",
     "start_time": "2023-10-19T16:34:08.231373989Z"
    }
   }
  },
  {
   "cell_type": "code",
   "execution_count": 4,
   "outputs": [],
   "source": [
    "# datasets\n",
    "breast_bin_dataset = read_csv('../datasets/breast_bin/breast-bin.csv', features=False, label=True)"
   ],
   "metadata": {
    "collapsed": false,
    "ExecuteTime": {
     "end_time": "2023-10-19T16:34:15.585061748Z",
     "start_time": "2023-10-19T16:34:15.576860668Z"
    }
   }
  },
  {
   "cell_type": "code",
   "execution_count": 5,
   "outputs": [
    {
     "data": {
      "text/plain": "[0.9856115107913669,\n 0.9568345323741008,\n 0.9568345323741008,\n 0.9856115107913669,\n 0.9568345323741008]"
     },
     "execution_count": 5,
     "metadata": {},
     "output_type": "execute_result"
    }
   ],
   "source": [
    "# cross validation\n",
    "lg = LogisticRegression()\n",
    "scores = k_fold_cross_validation(lg, breast_bin_dataset, cv=5)\n",
    "scores"
   ],
   "metadata": {
    "collapsed": false,
    "ExecuteTime": {
     "end_time": "2023-10-19T16:34:16.580396516Z",
     "start_time": "2023-10-19T16:34:16.550512610Z"
    }
   }
  },
  {
   "cell_type": "code",
   "execution_count": 7,
   "outputs": [
    {
     "data": {
      "text/plain": "{'scores': [0.9669540229885057,\n  0.9669540229885057,\n  0.9669540229885057,\n  0.9683908045977011,\n  0.9669540229885057,\n  0.9669540229885057,\n  0.9669540229885057,\n  0.9669540229885056,\n  0.9698275862068965,\n  0.9669540229885057,\n  0.9669540229885056,\n  0.9669540229885057,\n  0.9683908045977012,\n  0.9669540229885057,\n  0.9655172413793104,\n  0.9669540229885056,\n  0.9669540229885056,\n  0.9655172413793104,\n  0.9669540229885057,\n  0.9698275862068965,\n  0.9669540229885056,\n  0.9669540229885057,\n  0.9669540229885057,\n  0.9683908045977012,\n  0.9669540229885057,\n  0.9683908045977012,\n  0.9669540229885056,\n  0.9669540229885057,\n  0.9669540229885057,\n  0.9669540229885057,\n  0.9669540229885057,\n  0.9655172413793104,\n  0.9669540229885057,\n  0.9669540229885056,\n  0.9683908045977011,\n  0.9669540229885056],\n 'hyperparameters': [{'l2_penalty': 1, 'alpha': 0.001, 'max_iter': 1000},\n  {'l2_penalty': 1, 'alpha': 0.001, 'max_iter': 2000},\n  {'l2_penalty': 1, 'alpha': 0.001, 'max_iter': 3000},\n  {'l2_penalty': 1, 'alpha': 0.001, 'max_iter': 4000},\n  {'l2_penalty': 1, 'alpha': 0.001, 'max_iter': 5000},\n  {'l2_penalty': 1, 'alpha': 0.001, 'max_iter': 6000},\n  {'l2_penalty': 1, 'alpha': 0.0001, 'max_iter': 1000},\n  {'l2_penalty': 1, 'alpha': 0.0001, 'max_iter': 2000},\n  {'l2_penalty': 1, 'alpha': 0.0001, 'max_iter': 3000},\n  {'l2_penalty': 1, 'alpha': 0.0001, 'max_iter': 4000},\n  {'l2_penalty': 1, 'alpha': 0.0001, 'max_iter': 5000},\n  {'l2_penalty': 1, 'alpha': 0.0001, 'max_iter': 6000},\n  {'l2_penalty': 1, 'alpha': 1e-05, 'max_iter': 1000},\n  {'l2_penalty': 1, 'alpha': 1e-05, 'max_iter': 2000},\n  {'l2_penalty': 1, 'alpha': 1e-05, 'max_iter': 3000},\n  {'l2_penalty': 1, 'alpha': 1e-05, 'max_iter': 4000},\n  {'l2_penalty': 1, 'alpha': 1e-05, 'max_iter': 5000},\n  {'l2_penalty': 1, 'alpha': 1e-05, 'max_iter': 6000},\n  {'l2_penalty': 10, 'alpha': 0.001, 'max_iter': 1000},\n  {'l2_penalty': 10, 'alpha': 0.001, 'max_iter': 2000},\n  {'l2_penalty': 10, 'alpha': 0.001, 'max_iter': 3000},\n  {'l2_penalty': 10, 'alpha': 0.001, 'max_iter': 4000},\n  {'l2_penalty': 10, 'alpha': 0.001, 'max_iter': 5000},\n  {'l2_penalty': 10, 'alpha': 0.001, 'max_iter': 6000},\n  {'l2_penalty': 10, 'alpha': 0.0001, 'max_iter': 1000},\n  {'l2_penalty': 10, 'alpha': 0.0001, 'max_iter': 2000},\n  {'l2_penalty': 10, 'alpha': 0.0001, 'max_iter': 3000},\n  {'l2_penalty': 10, 'alpha': 0.0001, 'max_iter': 4000},\n  {'l2_penalty': 10, 'alpha': 0.0001, 'max_iter': 5000},\n  {'l2_penalty': 10, 'alpha': 0.0001, 'max_iter': 6000},\n  {'l2_penalty': 10, 'alpha': 1e-05, 'max_iter': 1000},\n  {'l2_penalty': 10, 'alpha': 1e-05, 'max_iter': 2000},\n  {'l2_penalty': 10, 'alpha': 1e-05, 'max_iter': 3000},\n  {'l2_penalty': 10, 'alpha': 1e-05, 'max_iter': 4000},\n  {'l2_penalty': 10, 'alpha': 1e-05, 'max_iter': 5000},\n  {'l2_penalty': 10, 'alpha': 1e-05, 'max_iter': 6000}],\n 'best_hyperparameters': {'l2_penalty': 1, 'alpha': 0.0001, 'max_iter': 3000},\n 'best_score': 0.9698275862068965}"
     },
     "execution_count": 7,
     "metadata": {},
     "output_type": "execute_result"
    }
   ],
   "source": [
    "# grid search cv\n",
    "\n",
    "lg = LogisticRegression()\n",
    "\n",
    "# parameter grid\n",
    "parameter_grid = {\n",
    "    'l2_penalty': (1, 10),\n",
    "    'alpha': (0.001, 0.0001, 0.00001),\n",
    "    'max_iter': (1000, 2000, 3000, 4000, 5000, 6000)\n",
    "}\n",
    "\n",
    "# cross validate the model\n",
    "scores = grid_search_cv(lg,\n",
    "                        breast_bin_dataset,\n",
    "                        hyperparameter_grid=parameter_grid,\n",
    "                        cv=3)\n",
    "\n",
    "scores"
   ],
   "metadata": {
    "collapsed": false,
    "ExecuteTime": {
     "end_time": "2023-10-19T16:34:39.904523639Z",
     "start_time": "2023-10-19T16:34:34.031263725Z"
    }
   }
  },
  {
   "cell_type": "code",
   "execution_count": 9,
   "outputs": [
    {
     "data": {
      "text/plain": "[0.9669540229885057,\n 0.9669540229885057,\n 0.9669540229885057,\n 0.9683908045977011,\n 0.9669540229885057,\n 0.9669540229885057,\n 0.9669540229885057,\n 0.9669540229885056,\n 0.9698275862068965,\n 0.9669540229885057,\n 0.9669540229885056,\n 0.9669540229885057,\n 0.9683908045977012,\n 0.9669540229885057,\n 0.9655172413793104,\n 0.9669540229885056,\n 0.9669540229885056,\n 0.9655172413793104,\n 0.9669540229885057,\n 0.9698275862068965,\n 0.9669540229885056,\n 0.9669540229885057,\n 0.9669540229885057,\n 0.9683908045977012,\n 0.9669540229885057,\n 0.9683908045977012,\n 0.9669540229885056,\n 0.9669540229885057,\n 0.9669540229885057,\n 0.9669540229885057,\n 0.9669540229885057,\n 0.9655172413793104,\n 0.9669540229885057,\n 0.9669540229885056,\n 0.9683908045977011,\n 0.9669540229885056]"
     },
     "execution_count": 9,
     "metadata": {},
     "output_type": "execute_result"
    }
   ],
   "source": [
    "#scores\n",
    "scores['scores']"
   ],
   "metadata": {
    "collapsed": false,
    "ExecuteTime": {
     "end_time": "2023-10-19T16:36:06.497291093Z",
     "start_time": "2023-10-19T16:36:06.450775169Z"
    }
   }
  },
  {
   "cell_type": "code",
   "execution_count": 10,
   "outputs": [
    {
     "data": {
      "text/plain": "{'l2_penalty': 1, 'alpha': 0.0001, 'max_iter': 3000}"
     },
     "execution_count": 10,
     "metadata": {},
     "output_type": "execute_result"
    }
   ],
   "source": [
    "# best hyperparameters\n",
    "scores['best_hyperparameters']"
   ],
   "metadata": {
    "collapsed": false,
    "ExecuteTime": {
     "end_time": "2023-10-19T16:36:11.334590739Z",
     "start_time": "2023-10-19T16:36:11.321576598Z"
    }
   }
  },
  {
   "cell_type": "code",
   "execution_count": 11,
   "outputs": [
    {
     "data": {
      "text/plain": "0.9698275862068965"
     },
     "execution_count": 11,
     "metadata": {},
     "output_type": "execute_result"
    }
   ],
   "source": [
    "# best score\n",
    "scores['best_score']"
   ],
   "metadata": {
    "collapsed": false,
    "ExecuteTime": {
     "end_time": "2023-10-19T16:36:17.874669837Z",
     "start_time": "2023-10-19T16:36:17.857739293Z"
    }
   }
  }
 ],
 "metadata": {
  "kernelspec": {
   "display_name": "Python 3",
   "language": "python",
   "name": "python3"
  },
  "language_info": {
   "codemirror_mode": {
    "name": "ipython",
    "version": 2
   },
   "file_extension": ".py",
   "mimetype": "text/x-python",
   "name": "python",
   "nbconvert_exporter": "python",
   "pygments_lexer": "ipython2",
   "version": "2.7.6"
  }
 },
 "nbformat": 4,
 "nbformat_minor": 0
}
