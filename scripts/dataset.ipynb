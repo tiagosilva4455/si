{
 "cells": [
  {
   "cell_type": "markdown",
   "source": [
    "## SIB - P1\n",
    "\n",
    "A Jupyter Notebook with examples of how to use the Dataset object.\n",
    "18/09/2023"
   ],
   "metadata": {
    "collapsed": false
   }
  },
  {
   "cell_type": "code",
   "execution_count": 1,
   "outputs": [
    {
     "data": {
      "text/plain": "(150, 30)"
     },
     "execution_count": 1,
     "metadata": {},
     "output_type": "execute_result"
    }
   ],
   "source": [
    "from si.data.dataset import Dataset\n",
    "import numpy as np\n",
    "\n",
    "# create a dataset\n",
    "X = np.random.rand(150, 30)\n",
    "y = np.random.randint(0, 2, 150)\n",
    "dataset = Dataset(X, y)\n",
    "dataset.shape()"
   ],
   "metadata": {
    "collapsed": false,
    "ExecuteTime": {
     "end_time": "2023-10-11T13:46:27.011057626Z",
     "start_time": "2023-10-11T13:46:26.857595819Z"
    }
   }
  },
  {
   "cell_type": "code",
   "execution_count": 2,
   "outputs": [
    {
     "data": {
      "text/plain": "array([[0.80182365, 0.64113488, 0.84614098, ..., 0.1974185 , 0.48823947,\n        0.60515804],\n       [0.11446785, 0.42871156, 0.38681656, ..., 0.54262138, 0.95005298,\n        0.03324341],\n       [0.7490716 , 0.2679309 , 0.79301099, ..., 0.8514416 , 0.47030137,\n        0.66025425],\n       ...,\n       [0.33000589, 0.99302457, 0.18718585, ..., 0.90100379, 0.6469107 ,\n        0.39255508],\n       [0.699436  , 0.16665558, 0.84618154, ..., 0.48881593, 0.32887293,\n        0.59563643],\n       [0.19225852, 0.53298539, 0.40024606, ..., 0.9029513 , 0.13946034,\n        0.80472977]])"
     },
     "execution_count": 2,
     "metadata": {},
     "output_type": "execute_result"
    }
   ],
   "source": [
    "# get the X\n",
    "dataset.X"
   ],
   "metadata": {
    "collapsed": false,
    "ExecuteTime": {
     "end_time": "2023-10-11T13:46:28.765086450Z",
     "start_time": "2023-10-11T13:46:28.758592952Z"
    }
   }
  },
  {
   "cell_type": "code",
   "execution_count": 3,
   "outputs": [
    {
     "data": {
      "text/plain": "['feat_0',\n 'feat_1',\n 'feat_2',\n 'feat_3',\n 'feat_4',\n 'feat_5',\n 'feat_6',\n 'feat_7',\n 'feat_8',\n 'feat_9',\n 'feat_10',\n 'feat_11',\n 'feat_12',\n 'feat_13',\n 'feat_14',\n 'feat_15',\n 'feat_16',\n 'feat_17',\n 'feat_18',\n 'feat_19',\n 'feat_20',\n 'feat_21',\n 'feat_22',\n 'feat_23',\n 'feat_24',\n 'feat_25',\n 'feat_26',\n 'feat_27',\n 'feat_28',\n 'feat_29']"
     },
     "execution_count": 3,
     "metadata": {},
     "output_type": "execute_result"
    }
   ],
   "source": [
    "#get the features names\n",
    "dataset.features"
   ],
   "metadata": {
    "collapsed": false,
    "ExecuteTime": {
     "end_time": "2023-10-11T13:46:31.148328808Z",
     "start_time": "2023-10-11T13:46:31.141231931Z"
    }
   }
  },
  {
   "cell_type": "code",
   "execution_count": 4,
   "outputs": [
    {
     "data": {
      "text/plain": "True"
     },
     "execution_count": 4,
     "metadata": {},
     "output_type": "execute_result"
    }
   ],
   "source": [
    "# has label?\n",
    "dataset.has_label()"
   ],
   "metadata": {
    "collapsed": false,
    "ExecuteTime": {
     "end_time": "2023-10-11T13:46:32.899922053Z",
     "start_time": "2023-10-11T13:46:32.892354360Z"
    }
   }
  },
  {
   "cell_type": "code",
   "execution_count": 5,
   "outputs": [
    {
     "data": {
      "text/plain": "array([0, 0, 0, 0, 1, 0, 0, 0, 1, 1, 0, 0, 1, 1, 1, 0, 0, 0, 1, 0, 0, 1,\n       1, 0, 0, 0, 0, 0, 1, 1, 1, 1, 1, 1, 1, 0, 1, 1, 0, 0, 1, 1, 1, 0,\n       0, 1, 0, 1, 1, 0, 0, 0, 0, 0, 0, 1, 1, 0, 0, 1, 0, 1, 1, 0, 1, 0,\n       1, 0, 0, 0, 1, 1, 0, 0, 1, 0, 1, 1, 0, 0, 0, 1, 1, 1, 1, 1, 0, 0,\n       0, 1, 1, 0, 1, 0, 0, 1, 0, 0, 0, 0, 0, 1, 0, 0, 1, 0, 0, 1, 0, 1,\n       1, 1, 1, 0, 1, 0, 1, 0, 0, 1, 1, 0, 1, 1, 0, 0, 0, 0, 1, 1, 0, 1,\n       1, 1, 0, 0, 0, 1, 1, 1, 1, 0, 1, 0, 0, 0, 0, 0, 1, 0])"
     },
     "execution_count": 5,
     "metadata": {},
     "output_type": "execute_result"
    }
   ],
   "source": [
    "# print the label\n",
    "dataset.y"
   ],
   "metadata": {
    "collapsed": false,
    "ExecuteTime": {
     "end_time": "2023-10-11T13:46:33.847618377Z",
     "start_time": "2023-10-11T13:46:33.840507043Z"
    }
   }
  },
  {
   "cell_type": "code",
   "execution_count": 6,
   "outputs": [
    {
     "data": {
      "text/plain": "array([0, 1])"
     },
     "execution_count": 6,
     "metadata": {},
     "output_type": "execute_result"
    }
   ],
   "source": [
    "# get classes\n",
    "dataset.get_classes()"
   ],
   "metadata": {
    "collapsed": false,
    "ExecuteTime": {
     "end_time": "2023-10-11T13:46:35.605646129Z",
     "start_time": "2023-10-11T13:46:35.597901803Z"
    }
   }
  },
  {
   "cell_type": "code",
   "execution_count": 7,
   "outputs": [
    {
     "data": {
      "text/plain": "          feat_0    feat_1    feat_2    feat_3    feat_4    feat_5    feat_6  \\\nmean    0.511740  0.538124  0.513318  0.489376  0.485406  0.520775  0.492468   \nmedian  0.526549  0.530198  0.545863  0.504126  0.484300  0.545841  0.492076   \nmin     0.003316  0.001000  0.001950  0.002905  0.011057  0.000554  0.004232   \nmax     0.992733  0.998717  0.992570  0.996555  0.988860  0.999186  0.998293   \nvar     0.087077  0.086508  0.082163  0.085521  0.074018  0.085260  0.088788   \n\n          feat_7    feat_8    feat_9  ...   feat_20   feat_21   feat_22  \\\nmean    0.527520  0.522368  0.476033  ...  0.544720  0.482406  0.534396   \nmedian  0.534609  0.514701  0.472715  ...  0.562027  0.478725  0.548770   \nmin     0.015953  0.008558  0.001146  ...  0.004212  0.000575  0.003150   \nmax     0.995730  0.988180  0.990188  ...  0.993511  0.995512  0.994265   \nvar     0.088145  0.084098  0.089272  ...  0.084876  0.080458  0.087790   \n\n         feat_23   feat_24   feat_25   feat_26   feat_27   feat_28   feat_29  \nmean    0.494289  0.473856  0.515729  0.481647  0.465210  0.516526  0.508717  \nmedian  0.507717  0.482148  0.559053  0.478616  0.449303  0.489996  0.518561  \nmin     0.000615  0.002833  0.016312  0.015125  0.000034  0.005493  0.013004  \nmax     0.996088  0.991793  0.990758  0.994653  0.989550  0.983990  0.983210  \nvar     0.081090  0.086907  0.083115  0.081015  0.084023  0.077617  0.082992  \n\n[5 rows x 30 columns]",
      "text/html": "<div>\n<style scoped>\n    .dataframe tbody tr th:only-of-type {\n        vertical-align: middle;\n    }\n\n    .dataframe tbody tr th {\n        vertical-align: top;\n    }\n\n    .dataframe thead th {\n        text-align: right;\n    }\n</style>\n<table border=\"1\" class=\"dataframe\">\n  <thead>\n    <tr style=\"text-align: right;\">\n      <th></th>\n      <th>feat_0</th>\n      <th>feat_1</th>\n      <th>feat_2</th>\n      <th>feat_3</th>\n      <th>feat_4</th>\n      <th>feat_5</th>\n      <th>feat_6</th>\n      <th>feat_7</th>\n      <th>feat_8</th>\n      <th>feat_9</th>\n      <th>...</th>\n      <th>feat_20</th>\n      <th>feat_21</th>\n      <th>feat_22</th>\n      <th>feat_23</th>\n      <th>feat_24</th>\n      <th>feat_25</th>\n      <th>feat_26</th>\n      <th>feat_27</th>\n      <th>feat_28</th>\n      <th>feat_29</th>\n    </tr>\n  </thead>\n  <tbody>\n    <tr>\n      <th>mean</th>\n      <td>0.511740</td>\n      <td>0.538124</td>\n      <td>0.513318</td>\n      <td>0.489376</td>\n      <td>0.485406</td>\n      <td>0.520775</td>\n      <td>0.492468</td>\n      <td>0.527520</td>\n      <td>0.522368</td>\n      <td>0.476033</td>\n      <td>...</td>\n      <td>0.544720</td>\n      <td>0.482406</td>\n      <td>0.534396</td>\n      <td>0.494289</td>\n      <td>0.473856</td>\n      <td>0.515729</td>\n      <td>0.481647</td>\n      <td>0.465210</td>\n      <td>0.516526</td>\n      <td>0.508717</td>\n    </tr>\n    <tr>\n      <th>median</th>\n      <td>0.526549</td>\n      <td>0.530198</td>\n      <td>0.545863</td>\n      <td>0.504126</td>\n      <td>0.484300</td>\n      <td>0.545841</td>\n      <td>0.492076</td>\n      <td>0.534609</td>\n      <td>0.514701</td>\n      <td>0.472715</td>\n      <td>...</td>\n      <td>0.562027</td>\n      <td>0.478725</td>\n      <td>0.548770</td>\n      <td>0.507717</td>\n      <td>0.482148</td>\n      <td>0.559053</td>\n      <td>0.478616</td>\n      <td>0.449303</td>\n      <td>0.489996</td>\n      <td>0.518561</td>\n    </tr>\n    <tr>\n      <th>min</th>\n      <td>0.003316</td>\n      <td>0.001000</td>\n      <td>0.001950</td>\n      <td>0.002905</td>\n      <td>0.011057</td>\n      <td>0.000554</td>\n      <td>0.004232</td>\n      <td>0.015953</td>\n      <td>0.008558</td>\n      <td>0.001146</td>\n      <td>...</td>\n      <td>0.004212</td>\n      <td>0.000575</td>\n      <td>0.003150</td>\n      <td>0.000615</td>\n      <td>0.002833</td>\n      <td>0.016312</td>\n      <td>0.015125</td>\n      <td>0.000034</td>\n      <td>0.005493</td>\n      <td>0.013004</td>\n    </tr>\n    <tr>\n      <th>max</th>\n      <td>0.992733</td>\n      <td>0.998717</td>\n      <td>0.992570</td>\n      <td>0.996555</td>\n      <td>0.988860</td>\n      <td>0.999186</td>\n      <td>0.998293</td>\n      <td>0.995730</td>\n      <td>0.988180</td>\n      <td>0.990188</td>\n      <td>...</td>\n      <td>0.993511</td>\n      <td>0.995512</td>\n      <td>0.994265</td>\n      <td>0.996088</td>\n      <td>0.991793</td>\n      <td>0.990758</td>\n      <td>0.994653</td>\n      <td>0.989550</td>\n      <td>0.983990</td>\n      <td>0.983210</td>\n    </tr>\n    <tr>\n      <th>var</th>\n      <td>0.087077</td>\n      <td>0.086508</td>\n      <td>0.082163</td>\n      <td>0.085521</td>\n      <td>0.074018</td>\n      <td>0.085260</td>\n      <td>0.088788</td>\n      <td>0.088145</td>\n      <td>0.084098</td>\n      <td>0.089272</td>\n      <td>...</td>\n      <td>0.084876</td>\n      <td>0.080458</td>\n      <td>0.087790</td>\n      <td>0.081090</td>\n      <td>0.086907</td>\n      <td>0.083115</td>\n      <td>0.081015</td>\n      <td>0.084023</td>\n      <td>0.077617</td>\n      <td>0.082992</td>\n    </tr>\n  </tbody>\n</table>\n<p>5 rows × 30 columns</p>\n</div>"
     },
     "execution_count": 7,
     "metadata": {},
     "output_type": "execute_result"
    }
   ],
   "source": [
    "# statistics summary\n",
    "dataset.summary()"
   ],
   "metadata": {
    "collapsed": false,
    "ExecuteTime": {
     "end_time": "2023-10-11T13:46:37.062190459Z",
     "start_time": "2023-10-11T13:46:37.044404440Z"
    }
   }
  },
  {
   "cell_type": "code",
   "execution_count": 9,
   "outputs": [
    {
     "data": {
      "text/plain": "           feat_0     feat_1     feat_2     feat_3     feat_4     feat_5  \\\nmean     4.417740   3.134478   3.207439   2.806867   3.216023   3.486409   \nmedian   4.000000   1.000000   1.000000   1.000000   2.000000   1.000000   \nmin      1.000000   1.000000   1.000000   1.000000   1.000000   1.000000   \nmax     10.000000  10.000000  10.000000  10.000000  10.000000  10.000000   \nvar      7.917053   9.298082   8.819630   8.141527   4.896110  13.099601   \n\n           feat_6     feat_7     feat_8  \nmean     3.437768   2.866953   1.589413  \nmedian   3.000000   1.000000   1.000000  \nmin      1.000000   1.000000   1.000000  \nmax     10.000000  10.000000  10.000000  \nvar      5.937114   9.311340   2.937284  ",
      "text/html": "<div>\n<style scoped>\n    .dataframe tbody tr th:only-of-type {\n        vertical-align: middle;\n    }\n\n    .dataframe tbody tr th {\n        vertical-align: top;\n    }\n\n    .dataframe thead th {\n        text-align: right;\n    }\n</style>\n<table border=\"1\" class=\"dataframe\">\n  <thead>\n    <tr style=\"text-align: right;\">\n      <th></th>\n      <th>feat_0</th>\n      <th>feat_1</th>\n      <th>feat_2</th>\n      <th>feat_3</th>\n      <th>feat_4</th>\n      <th>feat_5</th>\n      <th>feat_6</th>\n      <th>feat_7</th>\n      <th>feat_8</th>\n    </tr>\n  </thead>\n  <tbody>\n    <tr>\n      <th>mean</th>\n      <td>4.417740</td>\n      <td>3.134478</td>\n      <td>3.207439</td>\n      <td>2.806867</td>\n      <td>3.216023</td>\n      <td>3.486409</td>\n      <td>3.437768</td>\n      <td>2.866953</td>\n      <td>1.589413</td>\n    </tr>\n    <tr>\n      <th>median</th>\n      <td>4.000000</td>\n      <td>1.000000</td>\n      <td>1.000000</td>\n      <td>1.000000</td>\n      <td>2.000000</td>\n      <td>1.000000</td>\n      <td>3.000000</td>\n      <td>1.000000</td>\n      <td>1.000000</td>\n    </tr>\n    <tr>\n      <th>min</th>\n      <td>1.000000</td>\n      <td>1.000000</td>\n      <td>1.000000</td>\n      <td>1.000000</td>\n      <td>1.000000</td>\n      <td>1.000000</td>\n      <td>1.000000</td>\n      <td>1.000000</td>\n      <td>1.000000</td>\n    </tr>\n    <tr>\n      <th>max</th>\n      <td>10.000000</td>\n      <td>10.000000</td>\n      <td>10.000000</td>\n      <td>10.000000</td>\n      <td>10.000000</td>\n      <td>10.000000</td>\n      <td>10.000000</td>\n      <td>10.000000</td>\n      <td>10.000000</td>\n    </tr>\n    <tr>\n      <th>var</th>\n      <td>7.917053</td>\n      <td>9.298082</td>\n      <td>8.819630</td>\n      <td>8.141527</td>\n      <td>4.896110</td>\n      <td>13.099601</td>\n      <td>5.937114</td>\n      <td>9.311340</td>\n      <td>2.937284</td>\n    </tr>\n  </tbody>\n</table>\n</div>"
     },
     "execution_count": 9,
     "metadata": {},
     "output_type": "execute_result"
    }
   ],
   "source": [
    "from si.io.data_file import read_data_file\n",
    "\n",
    "# read breast dataset from data file\n",
    "breast_dataset = read_data_file('../datasets/breast_bin/breast-bin.data', sep=',', label=True)\n",
    "breast_dataset.summary()"
   ],
   "metadata": {
    "collapsed": false,
    "ExecuteTime": {
     "end_time": "2023-10-11T13:50:16.495524255Z",
     "start_time": "2023-10-11T13:50:16.451435922Z"
    }
   }
  },
  {
   "cell_type": "code",
   "execution_count": 10,
   "outputs": [
    {
     "data": {
      "text/plain": "array([1., 0., 0., 0., 1., 0., 0., 0., 0., 1., 0., 0., 0., 0., 0., 0., 0.,\n       0., 0., 1., 0., 0., 0., 0., 0., 1., 1., 1., 1., 1., 1., 0., 1., 1.,\n       0., 1., 0., 1., 0., 0., 1., 1., 0., 0., 0., 0., 1., 1., 0., 0., 0.,\n       1., 0., 0., 0., 0., 0., 0., 0., 0., 1., 1., 0., 0., 0., 0., 0., 0.,\n       0., 0., 0., 1., 1., 0., 0., 0., 0., 0., 0., 1., 0., 0., 0., 1., 1.,\n       1., 0., 0., 1., 0., 1., 0., 1., 0., 0., 1., 0., 0., 0., 0., 0., 0.,\n       0., 1., 1., 1., 1., 0., 0., 0., 0., 0., 1., 0., 0., 0., 1., 1., 0.,\n       0., 0., 0., 0., 0., 0., 0., 0., 0., 0., 0., 0., 0., 0., 1., 1., 0.,\n       1., 1., 0., 1., 1., 0., 0., 0., 0., 0., 0., 1., 0., 1., 0., 0., 1.,\n       0., 0., 0., 0., 0., 0., 0., 0., 0., 0., 0., 1., 0., 1., 0., 0., 0.,\n       0., 0., 1., 1., 1., 0., 0., 0., 1., 0., 0., 0., 0., 1., 1., 0., 0.,\n       0., 0., 1., 0., 0., 0., 0., 0., 0., 1., 1., 0., 1., 1., 0., 1., 0.,\n       0., 0., 0., 0., 0., 1., 0., 1., 0., 0., 0., 0., 0., 0., 0., 0., 1.,\n       1., 0., 1., 0., 0., 0., 0., 0., 1., 1., 0., 0., 1., 0., 1., 1., 0.,\n       1., 1., 0., 0., 1., 1., 1., 1., 0., 1., 1., 0., 0., 0., 0., 1., 0.,\n       1., 1., 1., 1., 0., 1., 1., 0., 0., 0., 0., 1., 0., 0., 0., 0., 0.,\n       0., 0., 1., 1., 1., 0., 1., 0., 0., 1., 1., 1., 1., 1., 0., 0., 0.,\n       0., 0., 1., 0., 0., 0., 0., 0., 1., 0., 1., 1., 0., 1., 0., 1., 0.,\n       0., 0., 0., 1., 1., 0., 1., 0., 0., 0., 0., 1., 0., 1., 0., 0., 0.,\n       0., 1., 1., 0., 0., 0., 1., 0., 0., 0., 0., 1., 0., 1., 0., 1., 1.,\n       0., 0., 0., 0., 0., 0., 0., 1., 0., 0., 0., 0., 0., 0., 0., 0., 0.,\n       1., 0., 0., 0., 0., 0., 0., 0., 1., 0., 1., 1., 1., 1., 0., 0., 0.,\n       0., 1., 0., 0., 0., 0., 0., 0., 0., 1., 1., 0., 0., 0., 0., 0., 0.,\n       1., 0., 0., 1., 0., 0., 0., 0., 0., 1., 0., 1., 0., 1., 0., 0., 0.,\n       0., 1., 1., 1., 1., 0., 0., 1., 0., 1., 0., 0., 1., 0., 1., 1., 1.,\n       0., 1., 0., 0., 1., 1., 1., 0., 0., 0., 0., 0., 0., 1., 0., 1., 1.,\n       0., 1., 0., 1., 1., 0., 1., 1., 0., 0., 1., 0., 1., 0., 0., 0., 0.,\n       1., 0., 0., 1., 0., 0., 1., 0., 0., 0., 0., 0., 1., 1., 1., 1., 0.,\n       0., 0., 0., 1., 1., 0., 0., 0., 0., 1., 0., 0., 0., 0., 1., 1., 0.,\n       0., 0., 0., 1., 1., 0., 0., 1., 0., 1., 0., 1., 0., 0., 0., 1., 0.,\n       0., 1., 1., 0., 1., 0., 0., 1., 1., 0., 0., 1., 1., 1., 1., 0., 0.,\n       1., 0., 1., 0., 0., 1., 0., 0., 0., 1., 1., 1., 0., 0., 1., 0., 0.,\n       0., 0., 1., 0., 0., 1., 1., 1., 1., 0., 1., 0., 0., 0., 0., 1., 0.,\n       0., 0., 0., 0., 0., 0., 0., 1., 0., 0., 1., 0., 0., 0., 0., 0., 0.,\n       1., 0., 0., 0., 0., 0., 0., 0., 1., 1., 0., 1., 0., 0., 1., 1., 1.,\n       1., 1., 0., 0., 0., 0., 0., 0., 0., 1., 1., 0., 1., 0., 1., 0., 0.,\n       1., 0., 0., 0., 1., 0., 0., 1., 1., 0., 0., 1., 0., 1., 1., 1., 0.,\n       0., 0., 0., 0., 0., 0., 1., 1., 1., 1., 1., 0., 1., 0., 0., 0., 1.,\n       0., 0., 1., 0., 0., 0., 0., 1., 0., 1., 0., 1., 1., 0., 0., 1., 1.,\n       0., 1., 0., 1., 0., 0., 0., 0., 0., 0., 1., 1., 0., 0., 0., 1., 0.,\n       1., 0., 1., 0., 0., 0., 0., 0., 0., 0., 1., 0., 1., 0., 0., 0., 0.,\n       0., 1.])"
     },
     "execution_count": 10,
     "metadata": {},
     "output_type": "execute_result"
    }
   ],
   "source": [
    "breast_dataset.y"
   ],
   "metadata": {
    "collapsed": false,
    "ExecuteTime": {
     "end_time": "2023-10-11T13:50:20.027774079Z",
     "start_time": "2023-10-11T13:50:20.025074614Z"
    }
   }
  },
  {
   "cell_type": "code",
   "execution_count": 11,
   "outputs": [
    {
     "name": "stdout",
     "output_type": "stream",
     "text": [
      "Features ['feat_0', 'feat_1', 'feat_2', 'feat_3', 'feat_4', 'feat_5', 'feat_6', 'feat_7', 'feat_8']\n",
      "Label y\n"
     ]
    }
   ],
   "source": [
    "print('Features', breast_dataset.features)\n",
    "print('Label', breast_dataset.label)"
   ],
   "metadata": {
    "collapsed": false,
    "ExecuteTime": {
     "end_time": "2023-10-11T13:50:21.928943706Z",
     "start_time": "2023-10-11T13:50:21.924641506Z"
    }
   }
  },
  {
   "cell_type": "code",
   "execution_count": 12,
   "outputs": [],
   "source": [
    "# write the same fila with a different name\n",
    "from si.io.data_file import write_data_file\n",
    "write_data_file('../datasets/breast_bin/breast-bin_tabular.tsv', breast_dataset, sep='\\t', label=True)"
   ],
   "metadata": {
    "collapsed": false,
    "ExecuteTime": {
     "end_time": "2023-10-11T13:50:46.905880648Z",
     "start_time": "2023-10-11T13:50:46.862070764Z"
    }
   }
  },
  {
   "cell_type": "code",
   "execution_count": 13,
   "outputs": [
    {
     "data": {
      "text/plain": "        sepal_length  sepal_width  petal_length  petal_width\nmean        5.843333     3.054000      3.758667     1.198667\nmedian      5.800000     3.000000      4.350000     1.300000\nmin         4.300000     2.000000      1.000000     0.100000\nmax         7.900000     4.400000      6.900000     2.500000\nvar         0.681122     0.186751      3.092425     0.578532",
      "text/html": "<div>\n<style scoped>\n    .dataframe tbody tr th:only-of-type {\n        vertical-align: middle;\n    }\n\n    .dataframe tbody tr th {\n        vertical-align: top;\n    }\n\n    .dataframe thead th {\n        text-align: right;\n    }\n</style>\n<table border=\"1\" class=\"dataframe\">\n  <thead>\n    <tr style=\"text-align: right;\">\n      <th></th>\n      <th>sepal_length</th>\n      <th>sepal_width</th>\n      <th>petal_length</th>\n      <th>petal_width</th>\n    </tr>\n  </thead>\n  <tbody>\n    <tr>\n      <th>mean</th>\n      <td>5.843333</td>\n      <td>3.054000</td>\n      <td>3.758667</td>\n      <td>1.198667</td>\n    </tr>\n    <tr>\n      <th>median</th>\n      <td>5.800000</td>\n      <td>3.000000</td>\n      <td>4.350000</td>\n      <td>1.300000</td>\n    </tr>\n    <tr>\n      <th>min</th>\n      <td>4.300000</td>\n      <td>2.000000</td>\n      <td>1.000000</td>\n      <td>0.100000</td>\n    </tr>\n    <tr>\n      <th>max</th>\n      <td>7.900000</td>\n      <td>4.400000</td>\n      <td>6.900000</td>\n      <td>2.500000</td>\n    </tr>\n    <tr>\n      <th>var</th>\n      <td>0.681122</td>\n      <td>0.186751</td>\n      <td>3.092425</td>\n      <td>0.578532</td>\n    </tr>\n  </tbody>\n</table>\n</div>"
     },
     "execution_count": 13,
     "metadata": {},
     "output_type": "execute_result"
    }
   ],
   "source": [
    "from si.io.csv_file import read_csv\n",
    "\n",
    "# read iris dataset from data file\n",
    "iris_dataset = read_csv('../datasets/iris/iris.csv', sep=',', features=True, label=True)\n",
    "iris_dataset.summary()"
   ],
   "metadata": {
    "collapsed": false,
    "ExecuteTime": {
     "end_time": "2023-10-11T13:52:21.143159153Z",
     "start_time": "2023-10-11T13:52:21.098533447Z"
    }
   }
  },
  {
   "cell_type": "code",
   "execution_count": 14,
   "outputs": [
    {
     "data": {
      "text/plain": "array(['Iris-setosa', 'Iris-versicolor', 'Iris-virginica'], dtype=object)"
     },
     "execution_count": 14,
     "metadata": {},
     "output_type": "execute_result"
    }
   ],
   "source": [
    "iris_dataset.get_classes()"
   ],
   "metadata": {
    "collapsed": false,
    "ExecuteTime": {
     "end_time": "2023-10-11T13:52:22.740687584Z",
     "start_time": "2023-10-11T13:52:22.729756260Z"
    }
   }
  },
  {
   "cell_type": "code",
   "execution_count": 15,
   "outputs": [],
   "source": [
    "# write the same file with a different name\n",
    "from si.io.csv_file import write_csv\n",
    "write_csv('../datasets/iris/iris_tabular.tsv', iris_dataset, sep='\\t', features=True, label=True)"
   ],
   "metadata": {
    "collapsed": false,
    "ExecuteTime": {
     "end_time": "2023-10-11T13:52:36.441990348Z",
     "start_time": "2023-10-11T13:52:36.396815304Z"
    }
   }
  },
  {
   "cell_type": "code",
   "execution_count": 16,
   "outputs": [
    {
     "data": {
      "text/plain": "array([0, 1, 2, 3])"
     },
     "execution_count": 16,
     "metadata": {},
     "output_type": "execute_result"
    }
   ],
   "source": [
    "# random dataset\n",
    "from si.data.dataset import Dataset\n",
    "random_dataset = Dataset.from_random(150, 30, 4)\n",
    "random_dataset.get_classes()"
   ],
   "metadata": {
    "collapsed": false,
    "ExecuteTime": {
     "end_time": "2023-10-11T13:55:26.102580270Z",
     "start_time": "2023-10-11T13:55:26.057693814Z"
    }
   }
  },
  {
   "cell_type": "code",
   "execution_count": 17,
   "outputs": [
    {
     "data": {
      "text/plain": "array([[5.65490247e-01, 1.42116681e-01, 1.78831969e-01, ...,\n        1.51886478e-01, 5.98699117e-01, 2.24093412e-02],\n       [4.80373815e-01, 9.47437033e-01, 4.60260208e-01, ...,\n        6.98362316e-02, 1.42123571e-01, 1.69508721e-01],\n       [4.05842734e-05, 8.78147404e-01, 9.88638863e-01, ...,\n        1.70170799e-01, 2.43136393e-01, 9.17116292e-03],\n       ...,\n       [8.19730438e-01, 7.72757419e-02, 9.29274936e-01, ...,\n        4.02392750e-01, 5.65532913e-02, 6.92779184e-01],\n       [4.12591273e-01, 5.78955754e-01, 6.72865100e-01, ...,\n        2.46527961e-01, 5.74853478e-02, 5.80791660e-01],\n       [1.41894699e-01, 1.15561158e-01, 9.97940769e-01, ...,\n        5.95912294e-01, 3.38226855e-01, 2.91132291e-01]])"
     },
     "execution_count": 17,
     "metadata": {},
     "output_type": "execute_result"
    }
   ],
   "source": [
    "# from dataframe\n",
    "import numpy as np\n",
    "import pandas as pd\n",
    "\n",
    "df = pd.DataFrame(np.random.rand(150, 30))\n",
    "df_dataset = Dataset.from_dataframe(df)\n",
    "df_dataset.X"
   ],
   "metadata": {
    "collapsed": false,
    "ExecuteTime": {
     "end_time": "2023-10-11T13:55:29.717977642Z",
     "start_time": "2023-10-11T13:55:29.672689237Z"
    }
   }
  },
  {
   "cell_type": "code",
   "execution_count": 18,
   "outputs": [
    {
     "data": {
      "text/plain": "False"
     },
     "execution_count": 18,
     "metadata": {},
     "output_type": "execute_result"
    }
   ],
   "source": [
    "df_dataset.has_label()"
   ],
   "metadata": {
    "collapsed": false,
    "ExecuteTime": {
     "end_time": "2023-10-11T13:55:31.649678974Z",
     "start_time": "2023-10-11T13:55:31.630719225Z"
    }
   }
  }
 ],
 "metadata": {
  "kernelspec": {
   "display_name": "Python 3",
   "language": "python",
   "name": "python3"
  },
  "language_info": {
   "codemirror_mode": {
    "name": "ipython",
    "version": 2
   },
   "file_extension": ".py",
   "mimetype": "text/x-python",
   "name": "python",
   "nbconvert_exporter": "python",
   "pygments_lexer": "ipython2",
   "version": "2.7.6"
  }
 },
 "nbformat": 4,
 "nbformat_minor": 0
}
