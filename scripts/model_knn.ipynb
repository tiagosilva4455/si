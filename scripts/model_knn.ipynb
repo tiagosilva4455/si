{
 "cells": [
  {
   "cell_type": "markdown",
   "source": [
    "SIB - P4\n",
    "A Jupyter Notebook with examples of how to use the knn model. 09/10/2023"
   ],
   "metadata": {
    "collapsed": false
   }
  },
  {
   "cell_type": "code",
   "execution_count": 1,
   "outputs": [],
   "source": [
    "# imports\n",
    "from si.io.csv_file import read_csv\n",
    "from si.model_selection.split import train_test_split\n",
    "from si.models.knn_classifier import KNNClassifier"
   ],
   "metadata": {
    "collapsed": false,
    "ExecuteTime": {
     "end_time": "2023-10-11T13:58:23.326053330Z",
     "start_time": "2023-10-11T13:58:23.157529891Z"
    }
   }
  },
  {
   "cell_type": "code",
   "execution_count": 2,
   "outputs": [],
   "source": [
    "# datasets\n",
    "iris_dataset = read_csv('../datasets/iris/iris.csv', features=True, label=True)"
   ],
   "metadata": {
    "collapsed": false,
    "ExecuteTime": {
     "end_time": "2023-10-11T13:58:27.082669588Z",
     "start_time": "2023-10-11T13:58:27.075580033Z"
    }
   }
  },
  {
   "cell_type": "code",
   "execution_count": 3,
   "outputs": [
    {
     "data": {
      "text/plain": "array([[6.1, 2.8, 4.7, 1.2],\n       [5.7, 3.8, 1.7, 0.3],\n       [7.7, 2.6, 6.9, 2.3],\n       [6. , 2.9, 4.5, 1.5],\n       [6.8, 2.8, 4.8, 1.4],\n       [5.4, 3.4, 1.5, 0.4],\n       [5.6, 2.9, 3.6, 1.3],\n       [6.9, 3.1, 5.1, 2.3],\n       [6.2, 2.2, 4.5, 1.5],\n       [5.8, 2.7, 3.9, 1.2],\n       [6.5, 3.2, 5.1, 2. ],\n       [4.8, 3. , 1.4, 0.1],\n       [5.5, 3.5, 1.3, 0.2],\n       [4.9, 3.1, 1.5, 0.1],\n       [5.1, 3.8, 1.5, 0.3],\n       [6.3, 3.3, 4.7, 1.6],\n       [6.5, 3. , 5.8, 2.2],\n       [5.6, 2.5, 3.9, 1.1],\n       [5.7, 2.8, 4.5, 1.3],\n       [6.4, 2.8, 5.6, 2.2],\n       [4.7, 3.2, 1.6, 0.2],\n       [6.1, 3. , 4.9, 1.8],\n       [5. , 3.4, 1.6, 0.4],\n       [6.4, 2.8, 5.6, 2.1],\n       [7.9, 3.8, 6.4, 2. ],\n       [6.7, 3. , 5.2, 2.3],\n       [6.7, 2.5, 5.8, 1.8],\n       [6.8, 3.2, 5.9, 2.3],\n       [4.8, 3. , 1.4, 0.3],\n       [4.8, 3.1, 1.6, 0.2]])"
     },
     "execution_count": 3,
     "metadata": {},
     "output_type": "execute_result"
    }
   ],
   "source": [
    "# split dataset\n",
    "train_dataset, test_dataset = train_test_split(iris_dataset)\n",
    "test_dataset.X"
   ],
   "metadata": {
    "collapsed": false,
    "ExecuteTime": {
     "end_time": "2023-10-11T13:58:27.691827523Z",
     "start_time": "2023-10-11T13:58:27.684915788Z"
    }
   }
  },
  {
   "cell_type": "code",
   "execution_count": 4,
   "outputs": [
    {
     "data": {
      "text/plain": "array(['Iris-versicolor', 'Iris-setosa', 'Iris-virginica',\n       'Iris-versicolor', 'Iris-versicolor', 'Iris-setosa',\n       'Iris-versicolor', 'Iris-virginica', 'Iris-versicolor',\n       'Iris-versicolor', 'Iris-virginica', 'Iris-setosa', 'Iris-setosa',\n       'Iris-setosa', 'Iris-setosa', 'Iris-versicolor', 'Iris-virginica',\n       'Iris-versicolor', 'Iris-versicolor', 'Iris-virginica',\n       'Iris-setosa', 'Iris-virginica', 'Iris-setosa', 'Iris-virginica',\n       'Iris-virginica', 'Iris-virginica', 'Iris-virginica',\n       'Iris-virginica', 'Iris-setosa', 'Iris-setosa'], dtype='<U15')"
     },
     "execution_count": 4,
     "metadata": {},
     "output_type": "execute_result"
    }
   ],
   "source": [
    "# knn classifier\n",
    "k = 2\n",
    "kmeans = KNNClassifier(k)\n",
    "kmeans.fit(train_dataset)\n",
    "predictions = kmeans.predict(test_dataset)\n",
    "predictions"
   ],
   "metadata": {
    "collapsed": false,
    "ExecuteTime": {
     "end_time": "2023-10-11T13:58:28.826244268Z",
     "start_time": "2023-10-11T13:58:28.813641934Z"
    }
   }
  },
  {
   "cell_type": "code",
   "execution_count": 5,
   "outputs": [
    {
     "data": {
      "text/plain": "1.0"
     },
     "execution_count": 5,
     "metadata": {},
     "output_type": "execute_result"
    }
   ],
   "source": [
    "kmeans.score(test_dataset)"
   ],
   "metadata": {
    "collapsed": false,
    "ExecuteTime": {
     "end_time": "2023-10-11T13:58:30.086650845Z",
     "start_time": "2023-10-11T13:58:30.070966269Z"
    }
   }
  },
  {
   "cell_type": "code",
   "execution_count": null,
   "outputs": [],
   "source": [],
   "metadata": {
    "collapsed": false
   }
  }
 ],
 "metadata": {
  "kernelspec": {
   "display_name": "Python 3",
   "language": "python",
   "name": "python3"
  },
  "language_info": {
   "codemirror_mode": {
    "name": "ipython",
    "version": 2
   },
   "file_extension": ".py",
   "mimetype": "text/x-python",
   "name": "python",
   "nbconvert_exporter": "python",
   "pygments_lexer": "ipython2",
   "version": "2.7.6"
  }
 },
 "nbformat": 4,
 "nbformat_minor": 0
}
