{
 "cells": [
  {
   "cell_type": "markdown",
   "source": [
    "## SIB - P2\n",
    "\n",
    "A Jupyter Notebook with examples of how to use the feature selection objects.\n",
    "25/09/2023"
   ],
   "metadata": {
    "collapsed": false
   }
  },
  {
   "cell_type": "code",
   "execution_count": 1,
   "outputs": [],
   "source": [
    "# imports\n",
    "from si.io.csv_file import read_csv\n",
    "from si.data.dataset import Dataset\n",
    "from si.feature_selection.variance_threshold import VarianceThreshold\n",
    "from si.feature_selection.select_k_best import SelectKBest\n",
    "from si.statistics.f_classification import f_classification"
   ],
   "metadata": {
    "collapsed": false,
    "ExecuteTime": {
     "end_time": "2023-10-11T13:56:40.517404054Z",
     "start_time": "2023-10-11T13:56:40.009557274Z"
    }
   }
  },
  {
   "cell_type": "code",
   "execution_count": 2,
   "outputs": [],
   "source": [
    "# datasets\n",
    "iris_dataset = read_csv('../datasets/iris/iris.csv', features=True, label=True)\n",
    "\n",
    "random_dataset = Dataset.from_random(100, 10)\n",
    "random_dataset.X[:, 2] = 0"
   ],
   "metadata": {
    "collapsed": false,
    "ExecuteTime": {
     "end_time": "2023-10-11T13:56:41.465761915Z",
     "start_time": "2023-10-11T13:56:41.461805872Z"
    }
   }
  },
  {
   "cell_type": "code",
   "execution_count": 3,
   "outputs": [
    {
     "data": {
      "text/plain": "(150, 3)"
     },
     "execution_count": 3,
     "metadata": {},
     "output_type": "execute_result"
    }
   ],
   "source": [
    "# Variance Threshold\n",
    "var_threshold = VarianceThreshold(0.5)\n",
    "var_threshold.fit(iris_dataset)\n",
    "transformed_dataset = var_threshold.transform(iris_dataset)\n",
    "transformed_dataset.shape()"
   ],
   "metadata": {
    "collapsed": false,
    "ExecuteTime": {
     "end_time": "2023-10-11T13:56:43.691491097Z",
     "start_time": "2023-10-11T13:56:43.688743407Z"
    }
   }
  },
  {
   "cell_type": "code",
   "execution_count": 4,
   "outputs": [
    {
     "data": {
      "text/plain": "array([[5.1, 1.4, 0.2],\n       [4.9, 1.4, 0.2],\n       [4.7, 1.3, 0.2],\n       [4.6, 1.5, 0.2],\n       [5. , 1.4, 0.2],\n       [5.4, 1.7, 0.4],\n       [4.6, 1.4, 0.3],\n       [5. , 1.5, 0.2],\n       [4.4, 1.4, 0.2],\n       [4.9, 1.5, 0.1],\n       [5.4, 1.5, 0.2],\n       [4.8, 1.6, 0.2],\n       [4.8, 1.4, 0.1],\n       [4.3, 1.1, 0.1],\n       [5.8, 1.2, 0.2],\n       [5.7, 1.5, 0.4],\n       [5.4, 1.3, 0.4],\n       [5.1, 1.4, 0.3],\n       [5.7, 1.7, 0.3],\n       [5.1, 1.5, 0.3],\n       [5.4, 1.7, 0.2],\n       [5.1, 1.5, 0.4],\n       [4.6, 1. , 0.2],\n       [5.1, 1.7, 0.5],\n       [4.8, 1.9, 0.2],\n       [5. , 1.6, 0.2],\n       [5. , 1.6, 0.4],\n       [5.2, 1.5, 0.2],\n       [5.2, 1.4, 0.2],\n       [4.7, 1.6, 0.2],\n       [4.8, 1.6, 0.2],\n       [5.4, 1.5, 0.4],\n       [5.2, 1.5, 0.1],\n       [5.5, 1.4, 0.2],\n       [4.9, 1.5, 0.1],\n       [5. , 1.2, 0.2],\n       [5.5, 1.3, 0.2],\n       [4.9, 1.5, 0.1],\n       [4.4, 1.3, 0.2],\n       [5.1, 1.5, 0.2],\n       [5. , 1.3, 0.3],\n       [4.5, 1.3, 0.3],\n       [4.4, 1.3, 0.2],\n       [5. , 1.6, 0.6],\n       [5.1, 1.9, 0.4],\n       [4.8, 1.4, 0.3],\n       [5.1, 1.6, 0.2],\n       [4.6, 1.4, 0.2],\n       [5.3, 1.5, 0.2],\n       [5. , 1.4, 0.2],\n       [7. , 4.7, 1.4],\n       [6.4, 4.5, 1.5],\n       [6.9, 4.9, 1.5],\n       [5.5, 4. , 1.3],\n       [6.5, 4.6, 1.5],\n       [5.7, 4.5, 1.3],\n       [6.3, 4.7, 1.6],\n       [4.9, 3.3, 1. ],\n       [6.6, 4.6, 1.3],\n       [5.2, 3.9, 1.4],\n       [5. , 3.5, 1. ],\n       [5.9, 4.2, 1.5],\n       [6. , 4. , 1. ],\n       [6.1, 4.7, 1.4],\n       [5.6, 3.6, 1.3],\n       [6.7, 4.4, 1.4],\n       [5.6, 4.5, 1.5],\n       [5.8, 4.1, 1. ],\n       [6.2, 4.5, 1.5],\n       [5.6, 3.9, 1.1],\n       [5.9, 4.8, 1.8],\n       [6.1, 4. , 1.3],\n       [6.3, 4.9, 1.5],\n       [6.1, 4.7, 1.2],\n       [6.4, 4.3, 1.3],\n       [6.6, 4.4, 1.4],\n       [6.8, 4.8, 1.4],\n       [6.7, 5. , 1.7],\n       [6. , 4.5, 1.5],\n       [5.7, 3.5, 1. ],\n       [5.5, 3.8, 1.1],\n       [5.5, 3.7, 1. ],\n       [5.8, 3.9, 1.2],\n       [6. , 5.1, 1.6],\n       [5.4, 4.5, 1.5],\n       [6. , 4.5, 1.6],\n       [6.7, 4.7, 1.5],\n       [6.3, 4.4, 1.3],\n       [5.6, 4.1, 1.3],\n       [5.5, 4. , 1.3],\n       [5.5, 4.4, 1.2],\n       [6.1, 4.6, 1.4],\n       [5.8, 4. , 1.2],\n       [5. , 3.3, 1. ],\n       [5.6, 4.2, 1.3],\n       [5.7, 4.2, 1.2],\n       [5.7, 4.2, 1.3],\n       [6.2, 4.3, 1.3],\n       [5.1, 3. , 1.1],\n       [5.7, 4.1, 1.3],\n       [6.3, 6. , 2.5],\n       [5.8, 5.1, 1.9],\n       [7.1, 5.9, 2.1],\n       [6.3, 5.6, 1.8],\n       [6.5, 5.8, 2.2],\n       [7.6, 6.6, 2.1],\n       [4.9, 4.5, 1.7],\n       [7.3, 6.3, 1.8],\n       [6.7, 5.8, 1.8],\n       [7.2, 6.1, 2.5],\n       [6.5, 5.1, 2. ],\n       [6.4, 5.3, 1.9],\n       [6.8, 5.5, 2.1],\n       [5.7, 5. , 2. ],\n       [5.8, 5.1, 2.4],\n       [6.4, 5.3, 2.3],\n       [6.5, 5.5, 1.8],\n       [7.7, 6.7, 2.2],\n       [7.7, 6.9, 2.3],\n       [6. , 5. , 1.5],\n       [6.9, 5.7, 2.3],\n       [5.6, 4.9, 2. ],\n       [7.7, 6.7, 2. ],\n       [6.3, 4.9, 1.8],\n       [6.7, 5.7, 2.1],\n       [7.2, 6. , 1.8],\n       [6.2, 4.8, 1.8],\n       [6.1, 4.9, 1.8],\n       [6.4, 5.6, 2.1],\n       [7.2, 5.8, 1.6],\n       [7.4, 6.1, 1.9],\n       [7.9, 6.4, 2. ],\n       [6.4, 5.6, 2.2],\n       [6.3, 5.1, 1.5],\n       [6.1, 5.6, 1.4],\n       [7.7, 6.1, 2.3],\n       [6.3, 5.6, 2.4],\n       [6.4, 5.5, 1.8],\n       [6. , 4.8, 1.8],\n       [6.9, 5.4, 2.1],\n       [6.7, 5.6, 2.4],\n       [6.9, 5.1, 2.3],\n       [5.8, 5.1, 1.9],\n       [6.8, 5.9, 2.3],\n       [6.7, 5.7, 2.5],\n       [6.7, 5.2, 2.3],\n       [6.3, 5. , 1.9],\n       [6.5, 5.2, 2. ],\n       [6.2, 5.4, 2.3],\n       [5.9, 5.1, 1.8]])"
     },
     "execution_count": 4,
     "metadata": {},
     "output_type": "execute_result"
    }
   ],
   "source": [
    "transformed_dataset.X"
   ],
   "metadata": {
    "collapsed": false,
    "ExecuteTime": {
     "end_time": "2023-10-11T13:56:44.859002431Z",
     "start_time": "2023-10-11T13:56:44.855709406Z"
    }
   }
  },
  {
   "cell_type": "code",
   "execution_count": 5,
   "outputs": [
    {
     "data": {
      "text/plain": "['feat_0',\n 'feat_1',\n 'feat_3',\n 'feat_4',\n 'feat_5',\n 'feat_6',\n 'feat_7',\n 'feat_8',\n 'feat_9']"
     },
     "execution_count": 5,
     "metadata": {},
     "output_type": "execute_result"
    }
   ],
   "source": [
    "# low variance 3rd column\n",
    "VarianceThreshold().fit_transform(random_dataset).features"
   ],
   "metadata": {
    "collapsed": false,
    "ExecuteTime": {
     "end_time": "2023-10-11T13:56:47.447764048Z",
     "start_time": "2023-10-11T13:56:47.446176727Z"
    }
   }
  },
  {
   "cell_type": "code",
   "execution_count": 6,
   "outputs": [
    {
     "data": {
      "text/plain": "['petal_width', 'petal_length']"
     },
     "execution_count": 6,
     "metadata": {},
     "output_type": "execute_result"
    }
   ],
   "source": [
    "# Select K Best with f_classification\n",
    "k_best = SelectKBest(score_func=f_classification, k=2)\n",
    "k_best.fit_transform(iris_dataset).features"
   ],
   "metadata": {
    "collapsed": false,
    "ExecuteTime": {
     "end_time": "2023-10-11T13:56:50.889382541Z",
     "start_time": "2023-10-11T13:56:50.871726247Z"
    }
   }
  },
  {
   "cell_type": "code",
   "execution_count": null,
   "outputs": [],
   "source": [],
   "metadata": {
    "collapsed": false
   }
  }
 ],
 "metadata": {
  "kernelspec": {
   "display_name": "Python 3",
   "language": "python",
   "name": "python3"
  },
  "language_info": {
   "codemirror_mode": {
    "name": "ipython",
    "version": 2
   },
   "file_extension": ".py",
   "mimetype": "text/x-python",
   "name": "python",
   "nbconvert_exporter": "python",
   "pygments_lexer": "ipython2",
   "version": "2.7.6"
  }
 },
 "nbformat": 4,
 "nbformat_minor": 0
}
